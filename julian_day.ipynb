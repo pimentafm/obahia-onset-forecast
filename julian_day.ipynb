{
 "cells": [
  {
   "cell_type": "code",
   "execution_count": 18,
   "metadata": {},
   "outputs": [],
   "source": [
    "import xarray as xr\n",
    "import rioxarray\n",
    "from datetime import date\n",
    "from datetime import datetime\n",
    "from datetime import timedelta\n",
    "import julian"
   ]
  },
  {
   "cell_type": "code",
   "execution_count": 19,
   "metadata": {},
   "outputs": [],
   "source": [
    "#da = xr.open_rasterio('interpolation.tif')"
   ]
  },
  {
   "cell_type": "code",
   "execution_count": 20,
   "metadata": {},
   "outputs": [],
   "source": [
    "#da.plot(levels=15)"
   ]
  },
  {
   "cell_type": "code",
   "execution_count": 21,
   "metadata": {},
   "outputs": [],
   "source": [
    "# Origem jd: \n",
    "#    meio-dia de 01 de janeiro de 4713 a.C. pelo calendário juliano\n",
    "#    meio-dia de 24 de novembro de 4714 a.C., pelo calendário gregoriano.\n",
    "# DJ = D - 32075 + 1461*( A + 4800 + ( M - 14 ) / 12 ) / 4 + 367*( M - 2 - ( M - 14 ) / 12 * 12 ) / 12 - 3*( ( A + 4900 + ( M - 14 ) / 12 ) / 100 ) / 4"
   ]
  },
  {
   "cell_type": "code",
   "execution_count": 51,
   "metadata": {},
   "outputs": [
    {
     "data": {
      "text/plain": [
       "datetime.datetime(2019, 10, 1, 0, 0)"
      ]
     },
     "execution_count": 51,
     "metadata": {},
     "output_type": "execute_result"
    }
   ],
   "source": [
    "pixel = 92\n",
    "\n",
    "july_01 = datetime(2019, 7, 1)\n",
    "jd_july_01 = julian.to_jd(july_01, fmt='jd')\n",
    "\n",
    "jd_date_pixel = julian.to_jd(july_01 + timedelta(days = pixel), fmt='jd')\n",
    "\n",
    "julian.from_jd(jd_date_pixel, fmt='jd')"
   ]
  },
  {
   "cell_type": "code",
   "execution_count": 52,
   "metadata": {},
   "outputs": [
    {
     "name": "stdout",
     "output_type": "stream",
     "text": [
      "91\n",
      "106\n",
      "121\n",
      "136\n",
      "151\n",
      "166\n"
     ]
    }
   ],
   "source": [
    "d = 91\n",
    "for i in range(6):\n",
    "    print(d)\n",
    "    d = d +15"
   ]
  },
  {
   "cell_type": "code",
   "execution_count": 3,
   "metadata": {},
   "outputs": [],
   "source": [
    "idt = datetime(2019, 7, 1)"
   ]
  },
  {
   "cell_type": "code",
   "execution_count": 4,
   "metadata": {},
   "outputs": [
    {
     "data": {
      "text/plain": [
       "2458665.5"
      ]
     },
     "execution_count": 4,
     "metadata": {},
     "output_type": "execute_result"
    }
   ],
   "source": [
    "jd_july_01"
   ]
  },
  {
   "cell_type": "code",
   "execution_count": 5,
   "metadata": {},
   "outputs": [
    {
     "data": {
      "text/plain": [
       "2458875.5"
      ]
     },
     "execution_count": 5,
     "metadata": {},
     "output_type": "execute_result"
    }
   ],
   "source": [
    "jd_date_pixel"
   ]
  },
  {
   "cell_type": "code",
   "execution_count": 4,
   "metadata": {},
   "outputs": [],
   "source": [
    "def deltaDaysFromPixelDate(idt, pdt):\n",
    "    \"\"\"\n",
    "    Args:\n",
    "        idt: initial date time (datetime.datetime object)\n",
    "        pdt: data from xarray 2D dataset\n",
    "    \"\"\"\n",
    "    \n",
    "    jd_idt = julian.to_jd(idt, fmt='jd')\n",
    "    \n",
    "    for i in range(pdt.shape[1]):\n",
    "        for j in range(pdt.shape[2]):\n",
    "            pdt[0, i, j] = julian.to_jd(idt + timedelta(days = pdt[0, i, j]), fmt='jd')\n",
    "            \n",
    "    return pdt"
   ]
  },
  {
   "cell_type": "code",
   "execution_count": 7,
   "metadata": {},
   "outputs": [],
   "source": [
    "da.data = deltaDaysFromPixelDate(idt, da.data)"
   ]
  },
  {
   "cell_type": "code",
   "execution_count": 11,
   "metadata": {},
   "outputs": [
    {
     "data": {
      "text/plain": [
       "<matplotlib.collections.QuadMesh at 0x7f6b8a900f50>"
      ]
     },
     "execution_count": 11,
     "metadata": {},
     "output_type": "execute_result"
    },
    {
     "data": {
      "image/png": "[encoded data removed]",
      "text/plain": [
       "<Figure size 432x288 with 2 Axes>"
      ]
     },
     "metadata": {
      "needs_background": "light"
     },
     "output_type": "display_data"
    }
   ],
   "source": [
    "da.plot(levels=15)"
   ]
  },
  {
   "cell_type": "code",
   "execution_count": 12,
   "metadata": {},
   "outputs": [],
   "source": [
    "da = da.rio.write_crs(4326)\n",
    "da.rio.to_raster('interp_julian.tif')"
   ]
  },
  {
   "cell_type": "code",
   "execution_count": 12,
   "metadata": {},
   "outputs": [
    {
     "data": {
      "text/plain": [
       "datetime.datetime(2019, 11, 3, 8, 19, 1, 954109)"
      ]
     },
     "execution_count": 12,
     "metadata": {},
     "output_type": "execute_result"
    }
   ],
   "source": [
    "julian.from_jd(2458790.846550395, fmt='jd')"
   ]
  },
  {
   "cell_type": "code",
   "execution_count": null,
   "metadata": {},
   "outputs": [],
   "source": []
  },
  {
   "cell_type": "code",
   "execution_count": 7,
   "metadata": {},
   "outputs": [
    {
     "data": {
      "text/plain": [
       "[15, 30, 45, 60, 75, 90, 105, 120, 135, 150, 165, 180, 195, 210, 225]"
      ]
     },
     "execution_count": 7,
     "metadata": {},
     "output_type": "execute_result"
    }
   ],
   "source": [
    "# python3.7 gdal_reclassify.py interpolation.tif reclassify.tif -c \"<60, <75, <90, <105, <120, <135, <150, <165, <180, <195, <210\" -r \"60, 75, 90, 105, 120, 135, 150, 165, 180, 195, 210\" -d 0 -n true -p \"COMPRESS=LZW\""
   ]
  },
  {
   "cell_type": "code",
   "execution_count": 8,
   "metadata": {},
   "outputs": [],
   "source": [
    "# gdal_polygonize.py -8 -f \"Esri Shapefile\" reclassify.tif reclassify.shp onset"
   ]
  },
  {
   "cell_type": "code",
   "execution_count": null,
   "metadata": {},
   "outputs": [],
   "source": []
  }
 ],
 "metadata": {
  "kernelspec": {
   "display_name": "Python 3",
   "language": "python",
   "name": "python3"
  },
  "language_info": {
   "codemirror_mode": {
    "name": "ipython",
    "version": 3
   },
   "file_extension": ".py",
   "mimetype": "text/x-python",
   "name": "python",
   "nbconvert_exporter": "python",
   "pygments_lexer": "ipython3",
   "version": "3.7.7"
  }
 },
 "nbformat": 4,
 "nbformat_minor": 4
}
